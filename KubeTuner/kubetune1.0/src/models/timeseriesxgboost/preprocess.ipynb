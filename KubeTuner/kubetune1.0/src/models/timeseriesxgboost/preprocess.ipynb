{
 "cells": [
  {
   "cell_type": "code",
   "execution_count": 3,
   "id": "fec32a8e",
   "metadata": {},
   "outputs": [],
   "source": [
    "from pathlib import Path\n",
    "import pandas as pd\n",
    "import numpy as np\n",
    "import os\n",
    "base_dir = Path(os.getcwd()).parents[2]\n",
    "file_path = base_dir / 'data' / 'aks01_pod_metrics.json'\n",
    "# Load the JSON file into a DataFrame\n",
    "df = pd.read_json(file_path)"
   ]
  },
  {
   "cell_type": "code",
   "execution_count": null,
   "id": "c6e63f25",
   "metadata": {},
   "outputs": [],
   "source": [
    "# Check the shape of the dataset\n",
    "print(f\"Dataset Shape: {df.shape}\")\n",
    "   \n",
    "# Check the data types of each column\n",
    "print(df.info())\n",
    "\n",
    "# Check for missing values\n",
    "print(df.isnull().sum())\n",
    "\n",
    "# Get basic statistics for numerical columns\n",
    "print(df.describe())\n",
    "\n",
    "# Check for unique values in categorical columns\n",
    "for col in df.select_dtypes(include=['object']).columns:\n",
    "    print(f\"Unique values in {col}: {df[col].nunique()}\")"
   ]
  },
  {
   "cell_type": "code",
   "execution_count": 39,
   "id": "eab80aa2",
   "metadata": {},
   "outputs": [],
   "source": [
    "import matplotlib.pyplot as plt\n",
    "import seaborn as sns"
   ]
  },
  {
   "cell_type": "code",
   "execution_count": null,
   "id": "dc69e9be",
   "metadata": {},
   "outputs": [],
   "source": [
    "# Example: Visualize the distribution of numerical columns\n",
    "numerical_cols = df.select_dtypes(include=['int64', 'float64']).columns\n",
    "for col in numerical_cols:\n",
    "    plt.figure(figsize=(8, 4))\n",
    "    sns.histplot(df[col], kde=True)\n",
    "    plt.title(f'Distribution of {col}')\n",
    "    plt.show()"
   ]
  },
  {
   "cell_type": "code",
   "execution_count": null,
   "id": "6386cc0e",
   "metadata": {},
   "outputs": [],
   "source": [
    "# Example: Count plot for categorical columns\n",
    "categorical_cols = df.select_dtypes(include=['object']).columns\n",
    "for col in categorical_cols:\n",
    "    plt.figure(figsize=(8, 4))\n",
    "    sns.countplot(y=df[col])\n",
    "    plt.title(f'Count of {col}')\n",
    "    plt.show()"
   ]
  },
  {
   "cell_type": "code",
   "execution_count": null,
   "id": "fd60635f",
   "metadata": {},
   "outputs": [],
   "source": [
    "# Drop rows with missing values (if applicable)\n",
    "df = df.dropna()\n",
    "\n",
    "# Or fill missing values with a specific value\n",
    "df.fillna(value={'column_name': 'default_value'}, inplace=True)"
   ]
  },
  {
   "cell_type": "code",
   "execution_count": null,
   "id": "aed68a90",
   "metadata": {},
   "outputs": [],
   "source": [
    "df['collectionTimestamp'] = pd.to_datetime(df['collectionTimestamp'])\n",
    "df['year'] = df['collectionTimestamp'].dt.year\n",
    "df['month'] = df['collectionTimestamp'].dt.month\n",
    "df['day'] = df['collectionTimestamp'].dt.day"
   ]
  },
  {
   "cell_type": "code",
   "execution_count": 31,
   "id": "34ae3a30",
   "metadata": {},
   "outputs": [],
   "source": [
    "# Label encoding\n",
    "from sklearn.preprocessing import LabelEncoder\n",
    "le = LabelEncoder()\n",
    "df['namespace'] = le.fit_transform(df['namespace'])\n",
    "df['pod'] = le.fit_transform(df['pod'])\n",
    "df['node'] = le.fit_transform(df['node'])\n",
    "df['container'] = le.fit_transform(df['container'])\n",
    "df['host_ip'] = le.fit_transform(df['host_ip'])\n",
    "df['pod_ip'] = le.fit_transform(df['pod_ip'])\n",
    "df['uid'] = le.fit_transform(df['uid'])\n",
    "df['controllerKind'] = le.fit_transform(df['controllerKind'])\n",
    "df['controllerName'] = le.fit_transform(df['controllerName'])\n",
    "df['deployment'] = le.fit_transform(df['deployment'])"
   ]
  },
  {
   "cell_type": "code",
   "execution_count": null,
   "id": "73358d08",
   "metadata": {},
   "outputs": [],
   "source": [
    "# Check data types and missing values\n",
    "df.info()\n",
    "\n",
    "# Summary statistics\n",
    "df.describe()\n",
    "\n",
    "# Check for null values\n",
    "df.isnull().sum()"
   ]
  },
  {
   "cell_type": "code",
   "execution_count": null,
   "id": "9024379c",
   "metadata": {},
   "outputs": [],
   "source": [
    "import matplotlib.pyplot as plt\n",
    "import seaborn as sns\n",
    "\n",
    "# CPU Usage Distribution\n",
    "sns.histplot(df['cpuUsage'], kde=True)\n",
    "plt.title('CPU Usage Distribution')\n",
    "plt.show()\n",
    "\n",
    "# Memory Usage Distribution\n",
    "sns.histplot(df['memUsage'], kde=True)\n",
    "plt.title('Memory Usage Distribution')\n",
    "plt.show()"
   ]
  },
  {
   "cell_type": "code",
   "execution_count": 1,
   "id": "8e0e3093",
   "metadata": {},
   "outputs": [
    {
     "ename": "NameError",
     "evalue": "name 'df' is not defined",
     "output_type": "error",
     "traceback": [
      "\u001b[31m---------------------------------------------------------------------------\u001b[39m",
      "\u001b[31mNameError\u001b[39m                                 Traceback (most recent call last)",
      "\u001b[36mCell\u001b[39m\u001b[36m \u001b[39m\u001b[32mIn[1]\u001b[39m\u001b[32m, line 2\u001b[39m\n\u001b[32m      1\u001b[39m \u001b[38;5;66;03m# Correlation heatmap\u001b[39;00m\n\u001b[32m----> \u001b[39m\u001b[32m2\u001b[39m correlation = \u001b[43mdf\u001b[49m[[\u001b[33m'\u001b[39m\u001b[33mcpuUsage\u001b[39m\u001b[33m'\u001b[39m, \u001b[33m'\u001b[39m\u001b[33mmemUsage\u001b[39m\u001b[33m'\u001b[39m, \u001b[33m'\u001b[39m\u001b[33mcpuRequest\u001b[39m\u001b[33m'\u001b[39m, \u001b[33m'\u001b[39m\u001b[33mmemRequest\u001b[39m\u001b[33m'\u001b[39m, \u001b[33m'\u001b[39m\u001b[33mcpuLimit\u001b[39m\u001b[33m'\u001b[39m, \u001b[33m'\u001b[39m\u001b[33mmemLimit\u001b[39m\u001b[33m'\u001b[39m]].corr()\n\u001b[32m      3\u001b[39m sns.heatmap(correlation, annot=\u001b[38;5;28;01mTrue\u001b[39;00m, cmap=\u001b[33m'\u001b[39m\u001b[33mcoolwarm\u001b[39m\u001b[33m'\u001b[39m)\n\u001b[32m      4\u001b[39m plt.title(\u001b[33m'\u001b[39m\u001b[33mCorrelation Heatmap\u001b[39m\u001b[33m'\u001b[39m)\n",
      "\u001b[31mNameError\u001b[39m: name 'df' is not defined"
     ]
    }
   ],
   "source": [
    "# Correlation heatmap\n",
    "correlation = df[['cpuUsage', 'memUsage', 'cpuRequest', 'memRequest', 'cpuLimit', 'memLimit']].corr()\n",
    "sns.heatmap(correlation, annot=True, cmap='coolwarm')\n",
    "plt.title('Correlation Heatmap')\n",
    "plt.show()"
   ]
  },
  {
   "cell_type": "code",
   "execution_count": null,
   "id": "47e8aa38",
   "metadata": {},
   "outputs": [],
   "source": [
    "# Analyze controller types\n",
    "controller_counts = df['controllerKind'].value_counts()\n",
    "controller_counts.plot(kind='bar')\n",
    "plt.title('Controller Kind Distribution')\n",
    "plt.show()"
   ]
  },
  {
   "cell_type": "code",
   "execution_count": null,
   "id": "67f325b8",
   "metadata": {},
   "outputs": [],
   "source": [
    "# Calculate CPU and Memory Utilization\n",
    "df['cpuUtilization'] = df['cpuUsage'] / (df['cpuLimit'] + 1e-5)\n",
    "df['memUtilization'] = df['memUsage'] / (df['memLimit'] + 1e-5)"
   ]
  },
  {
   "cell_type": "code",
   "execution_count": null,
   "id": "af36ab3e",
   "metadata": {},
   "outputs": [],
   "source": [
    "# Categorize pods based on CPU requests\n",
    "df['cpuRequestCategory'] = pd.cut(df['cpuRequest'], bins=[-1, 0, 0.5, 1, float('inf')], labels=['None', 'Low', 'Medium', 'High'])"
   ]
  },
  {
   "cell_type": "code",
   "execution_count": null,
   "id": "f449d53b",
   "metadata": {},
   "outputs": [],
   "source": [
    "# Convert timestamps to datetime\n",
    "df['collectionTimestamp'] = pd.to_datetime(df['collectionTimestamp'])\n",
    "df['cpuUsageTimestamp'] = pd.to_datetime(df['cpuUsageTimestamp'])\n",
    "\n",
    "# Extract time-based features\n",
    "df['hour'] = df['collectionTimestamp'].dt.hour\n",
    "df['day_of_week'] = df['collectionTimestamp'].dt.dayofweek"
   ]
  },
  {
   "cell_type": "code",
   "execution_count": null,
   "id": "0c896549",
   "metadata": {},
   "outputs": [],
   "source": [
    "# Save the cleaned and processed DataFrame to a new CSV file\n",
    "output_path = r'c:\\brijesh\\Confluentis\\MLearn\\processed_pod_metrics.csv'\n",
    "df.to_csv(output_path, index=False)"
   ]
  },
  {
   "cell_type": "code",
   "execution_count": null,
   "id": "c449a525",
   "metadata": {},
   "outputs": [],
   "source": [
    "# from sklearn.preprocessing import StandardScaler\n",
    "# scaler = StandardScaler()\n",
    "# data['scaled_column'] = scaler.fit_transform(data[['numerical_column']])"
   ]
  },
  {
   "cell_type": "code",
   "execution_count": null,
   "id": "4361acb5",
   "metadata": {},
   "outputs": [],
   "source": [
    "# data['new_feature'] = data['feature1'] * data['feature2']"
   ]
  },
  {
   "cell_type": "code",
   "execution_count": null,
   "id": "e577176e",
   "metadata": {},
   "outputs": [],
   "source": [
    "# from sklearn.feature_extraction.text import CountVectorizer\n",
    "# vectorizer = CountVectorizer()\n",
    "# text_features = vectorizer.fit_transform(data['text_column'])"
   ]
  },
  {
   "cell_type": "code",
   "execution_count": null,
   "id": "5a69bfc6",
   "metadata": {},
   "outputs": [],
   "source": [
    "df.to_csv('processed_data.csv', index=False)"
   ]
  }
 ],
 "metadata": {
  "kernelspec": {
   "display_name": "Python 3",
   "language": "python",
   "name": "python3"
  },
  "language_info": {
   "codemirror_mode": {
    "name": "ipython",
    "version": 3
   },
   "file_extension": ".py",
   "mimetype": "text/x-python",
   "name": "python",
   "nbconvert_exporter": "python",
   "pygments_lexer": "ipython3",
   "version": "3.13.5"
  }
 },
 "nbformat": 4,
 "nbformat_minor": 5
}
