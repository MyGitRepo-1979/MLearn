{
  "metadata": {
    "kernelspec": {
      "display_name": "Python 3",
      "language": "python",
      "name": "python3"
    },
    "language_info": {
      "name": "python",
      "version": "3.6.6",
      "mimetype": "text/x-python",
      "codemirror_mode": {
        "name": "ipython",
        "version": 3
      },
      "pygments_lexer": "ipython3",
      "nbconvert_exporter": "python",
      "file_extension": ".py"
    },
    "kaggle": {
      "accelerator": "none",
      "dataSources": [
        {
          "sourceId": 87794,
          "sourceType": "datasetVersion",
          "datasetId": 48149
        }
      ],
      "dockerImageVersionId": 13801,
      "isInternetEnabled": false,
      "language": "python",
      "sourceType": "notebook",
      "isGpuEnabled": false
    },
    "colab": {
      "provenance": []
    }
  },
  "nbformat_minor": 0,
  "nbformat": 4,
  "cells": [
    {
      "source": [
        "# IMPORTANT: RUN THIS CELL IN ORDER TO IMPORT YOUR KAGGLE DATA SOURCES,\n",
        "# THEN FEEL FREE TO DELETE THIS CELL.\n",
        "# NOTE: THIS NOTEBOOK ENVIRONMENT DIFFERS FROM KAGGLE'S PYTHON\n",
        "# ENVIRONMENT SO THERE MAY BE MISSING LIBRARIES USED BY YOUR\n",
        "# NOTEBOOK.\n",
        "import kagglehub\n",
        "robikscube_hourly_energy_consumption_path = kagglehub.dataset_download('robikscube/hourly-energy-consumption')\n",
        "\n",
        "print('Data source import complete.')\n"
      ],
      "metadata": {
        "id": "4i_vhmeO3Lof"
      },
      "cell_type": "code",
      "outputs": [],
      "execution_count": null
    },
    {
      "cell_type": "markdown",
      "source": [
        "# Hourly Time Series Forecasting using XGBoost\n",
        "\n",
        "In this notebook we will walk through time series forecasting using XGBoost. The data we will be using is hourly energy consumption."
      ],
      "metadata": {
        "_uuid": "9bb54771ab0e8de3f40d12e7f47d3c86fe58645b",
        "id": "WI2mG11J3Loj"
      }
    },
    {
      "cell_type": "code",
      "source": [
        "import numpy as np # linear algebra\n",
        "import pandas as pd # data processing, CSV file I/O (e.g. pd.read_csv)\n",
        "import seaborn as sns\n",
        "import matplotlib.pyplot as plt\n",
        "import xgboost as xgb\n",
        "from xgboost import plot_importance, plot_tree\n",
        "from sklearn.metrics import mean_squared_error, mean_absolute_error\n",
        "plt.style.use('fivethirtyeight')"
      ],
      "metadata": {
        "_uuid": "8f2839f25d086af736a60e9eeb907d3b93b6e0e5",
        "_cell_guid": "b1076dfc-b9ad-4769-8c92-a6c4dae69d19",
        "trusted": true,
        "execution": {
          "iopub.status.busy": "2025-05-22T21:57:37.948668Z",
          "iopub.execute_input": "2025-05-22T21:57:37.949059Z",
          "iopub.status.idle": "2025-05-22T21:57:39.272169Z",
          "shell.execute_reply.started": "2025-05-22T21:57:37.948987Z",
          "shell.execute_reply": "2025-05-22T21:57:39.270992Z"
        },
        "id": "RUKr12lL3Lom"
      },
      "outputs": [],
      "execution_count": null
    },
    {
      "cell_type": "markdown",
      "source": [
        "# Data\n",
        "The data we will be using is hourly power consumption data from PJM. Energy consumtion has some unique charachteristics. It will be interesting to see how prophet picks them up.\n",
        "\n",
        "Pulling the `PJM East` which has data from 2002-2018 for the entire east region."
      ],
      "metadata": {
        "_uuid": "102c0bcb9cfc3be70922d8a308d4e29f02002c3e",
        "id": "g9n794kz3Lon"
      }
    },
    {
      "cell_type": "code",
      "source": [
        "pjme = pd.read_csv('../input/PJME_hourly.csv', index_col=[0], parse_dates=[0])"
      ],
      "metadata": {
        "_cell_guid": "79c7e3d0-c299-4dcb-8224-4455121ee9b0",
        "_uuid": "d629ff2d2480ee46fbb7e2d37f6b5fab8052498a",
        "trusted": true,
        "execution": {
          "iopub.status.busy": "2025-05-22T21:58:16.446299Z",
          "iopub.execute_input": "2025-05-22T21:58:16.446696Z",
          "iopub.status.idle": "2025-05-22T21:58:16.719643Z",
          "shell.execute_reply.started": "2025-05-22T21:58:16.446622Z",
          "shell.execute_reply": "2025-05-22T21:58:16.718661Z"
        },
        "id": "VFBcut_R3Lon"
      },
      "outputs": [],
      "execution_count": null
    },
    {
      "cell_type": "code",
      "source": [
        "color_pal = [\"#F8766D\", \"#D39200\", \"#93AA00\", \"#00BA38\", \"#00C19F\", \"#00B9E3\", \"#619CFF\", \"#DB72FB\"]\n",
        "_ = pjme.plot(style='.', figsize=(15,5), color=color_pal[0], title='PJM East')"
      ],
      "metadata": {
        "trusted": true,
        "_uuid": "c9ed25d7b8010577d04385c9c4077b6fffd7d409",
        "execution": {
          "iopub.status.busy": "2025-05-22T21:58:21.025119Z",
          "iopub.execute_input": "2025-05-22T21:58:21.025457Z",
          "iopub.status.idle": "2025-05-22T21:58:22.204422Z",
          "shell.execute_reply.started": "2025-05-22T21:58:21.025388Z",
          "shell.execute_reply": "2025-05-22T21:58:22.203354Z"
        },
        "id": "xegczWP93Loo"
      },
      "outputs": [],
      "execution_count": null
    },
    {
      "cell_type": "markdown",
      "source": [
        "# Train/Test Split\n",
        "Cut off the data after 2015 to use as our validation set."
      ],
      "metadata": {
        "trusted": true,
        "_uuid": "1c1c9cf0b6c70a8edd221810bb289b8837889288",
        "id": "JIQk4Hj53Loo"
      }
    },
    {
      "cell_type": "code",
      "source": [
        "split_date = '01-Jan-2015'\n",
        "pjme_train = pjme.loc[pjme.index <= split_date].copy()\n",
        "pjme_test = pjme.loc[pjme.index > split_date].copy()"
      ],
      "metadata": {
        "trusted": true,
        "_uuid": "9e5c8c6fd78d2ac35c628315a7f12ad19c84dddb",
        "execution": {
          "iopub.status.busy": "2025-05-22T21:58:30.203248Z",
          "iopub.execute_input": "2025-05-22T21:58:30.203562Z",
          "iopub.status.idle": "2025-05-22T21:58:30.218211Z",
          "shell.execute_reply.started": "2025-05-22T21:58:30.203489Z",
          "shell.execute_reply": "2025-05-22T21:58:30.217089Z"
        },
        "id": "q1i1Z1gh3Lop"
      },
      "outputs": [],
      "execution_count": null
    },
    {
      "cell_type": "code",
      "source": [
        "_ = pjme_test \\\n",
        "    .rename(columns={'PJME_MW': 'TEST SET'}) \\\n",
        "    .join(pjme_train.rename(columns={'PJME_MW': 'TRAINING SET'}), how='outer') \\\n",
        "    .plot(figsize=(15,5), title='PJM East', style='.')"
      ],
      "metadata": {
        "trusted": true,
        "_uuid": "e1a730acd8b68e569ce5ff1abe18b047ca85ab91",
        "execution": {
          "iopub.status.busy": "2025-05-22T21:58:32.990162Z",
          "iopub.execute_input": "2025-05-22T21:58:32.990459Z",
          "iopub.status.idle": "2025-05-22T21:58:34.367862Z",
          "shell.execute_reply.started": "2025-05-22T21:58:32.990413Z",
          "shell.execute_reply": "2025-05-22T21:58:34.366944Z"
        },
        "id": "YSm-Ua8H3Lop"
      },
      "outputs": [],
      "execution_count": null
    },
    {
      "cell_type": "markdown",
      "source": [
        "# Create Time Series Features"
      ],
      "metadata": {
        "_uuid": "a40373b87cfcbbfac9be205b3dbacf56bb9bc3d0",
        "id": "WqsCzedc3Loq"
      }
    },
    {
      "cell_type": "code",
      "source": [
        "def create_features(df, label=None):\n",
        "    \"\"\"\n",
        "    Creates time series features from datetime index\n",
        "    \"\"\"\n",
        "    df['date'] = df.index\n",
        "    df['hour'] = df['date'].dt.hour\n",
        "    df['dayofweek'] = df['date'].dt.dayofweek\n",
        "    df['quarter'] = df['date'].dt.quarter\n",
        "    df['month'] = df['date'].dt.month\n",
        "    df['year'] = df['date'].dt.year\n",
        "    df['dayofyear'] = df['date'].dt.dayofyear\n",
        "    df['dayofmonth'] = df['date'].dt.day\n",
        "    df['weekofyear'] = df['date'].dt.weekofyear\n",
        "\n",
        "    X = df[['hour','dayofweek','quarter','month','year',\n",
        "           'dayofyear','dayofmonth','weekofyear']]\n",
        "    if label:\n",
        "        y = df[label]\n",
        "        return X, y\n",
        "    return X"
      ],
      "metadata": {
        "trusted": true,
        "_uuid": "53212882b070962fad91503aec7d2e550ac401c7",
        "execution": {
          "iopub.status.busy": "2025-05-22T21:58:44.470661Z",
          "iopub.execute_input": "2025-05-22T21:58:44.47097Z",
          "iopub.status.idle": "2025-05-22T21:58:44.477904Z",
          "shell.execute_reply.started": "2025-05-22T21:58:44.470924Z",
          "shell.execute_reply": "2025-05-22T21:58:44.47669Z"
        },
        "id": "rxc4XBdT3Loq"
      },
      "outputs": [],
      "execution_count": null
    },
    {
      "cell_type": "code",
      "source": [
        "X_train, y_train = create_features(pjme_train, label='PJME_MW')\n",
        "X_test, y_test = create_features(pjme_test, label='PJME_MW')"
      ],
      "metadata": {
        "trusted": true,
        "_uuid": "6bb80315201ecc19305b67e4ba8177bcbb9514b4",
        "execution": {
          "iopub.status.busy": "2025-05-22T21:58:47.867449Z",
          "iopub.execute_input": "2025-05-22T21:58:47.867812Z",
          "iopub.status.idle": "2025-05-22T21:58:47.959518Z",
          "shell.execute_reply.started": "2025-05-22T21:58:47.867758Z",
          "shell.execute_reply": "2025-05-22T21:58:47.958694Z"
        },
        "id": "HKSGBonh3Loq"
      },
      "outputs": [],
      "execution_count": null
    },
    {
      "cell_type": "markdown",
      "source": [
        "# Create XGBoost Model"
      ],
      "metadata": {
        "_uuid": "60ffc6c21d16280ee05faead916fd09c34fa490c",
        "id": "sDSwvMO_3Lor"
      }
    },
    {
      "cell_type": "code",
      "source": [
        "reg = xgb.XGBRegressor(n_estimators=1000)\n",
        "reg.fit(X_train, y_train,\n",
        "        eval_set=[(X_train, y_train), (X_test, y_test)],\n",
        "        early_stopping_rounds=50,\n",
        "       verbose=False) # Change verbose to True if you want to see it train"
      ],
      "metadata": {
        "trusted": true,
        "_uuid": "f608b0b457225f175c2eb1c4a74450747b095e93",
        "execution": {
          "iopub.status.busy": "2025-05-22T21:58:51.747016Z",
          "iopub.execute_input": "2025-05-22T21:58:51.747315Z",
          "iopub.status.idle": "2025-05-22T21:58:58.635169Z",
          "shell.execute_reply.started": "2025-05-22T21:58:51.747268Z",
          "shell.execute_reply": "2025-05-22T21:58:58.634145Z"
        },
        "id": "dOVev1RB3Lor"
      },
      "outputs": [],
      "execution_count": null
    },
    {
      "cell_type": "markdown",
      "source": [
        "## Feature Importances\n",
        "Feature importance is a great way to get a general idea about which features the model is relying on most to make the prediction. This is a metric that simply sums up how many times each feature is split on.\n",
        "\n",
        "We can see that the day of year was most commonly used to split trees, while hour and year came in next. Quarter has low importance due to the fact that it could be created by different dayofyear splits."
      ],
      "metadata": {
        "_uuid": "bf8d62f71d3037055bb267d283d58e510b2f58ff",
        "id": "ajpKsFaA3Lor"
      }
    },
    {
      "cell_type": "code",
      "source": [
        "_ = plot_importance(reg, height=0.9)"
      ],
      "metadata": {
        "trusted": true,
        "_uuid": "bf9e389874f0463e33fc844a4821b27f32353e2c",
        "execution": {
          "iopub.status.busy": "2025-05-22T21:59:15.749469Z",
          "iopub.execute_input": "2025-05-22T21:59:15.749851Z",
          "iopub.status.idle": "2025-05-22T21:59:15.942808Z",
          "shell.execute_reply.started": "2025-05-22T21:59:15.749796Z",
          "shell.execute_reply": "2025-05-22T21:59:15.941899Z"
        },
        "id": "PSBEqJt_3Lor"
      },
      "outputs": [],
      "execution_count": null
    },
    {
      "cell_type": "markdown",
      "source": [
        "# Forecast on Test Set"
      ],
      "metadata": {
        "_uuid": "7d16d64d0081f8ab9d5aff6970115f82a2e455a1",
        "id": "4s05odOh3Los"
      }
    },
    {
      "cell_type": "code",
      "source": [
        "pjme_test['MW_Prediction'] = reg.predict(X_test)\n",
        "pjme_all = pd.concat([pjme_test, pjme_train], sort=False)"
      ],
      "metadata": {
        "trusted": true,
        "_uuid": "ab0386238f329132254a5d2fd1ab15cc05c2ce4e",
        "execution": {
          "iopub.status.busy": "2025-05-22T21:59:49.216305Z",
          "iopub.execute_input": "2025-05-22T21:59:49.216661Z",
          "iopub.status.idle": "2025-05-22T21:59:49.341713Z",
          "shell.execute_reply.started": "2025-05-22T21:59:49.216601Z",
          "shell.execute_reply": "2025-05-22T21:59:49.340751Z"
        },
        "id": "atBe9Kec3Los"
      },
      "outputs": [],
      "execution_count": null
    },
    {
      "cell_type": "code",
      "source": [
        "_ = pjme_all[['PJME_MW','MW_Prediction']].plot(figsize=(15, 5))"
      ],
      "metadata": {
        "trusted": true,
        "_uuid": "46c23648943927364a6e35428ac15dbb52a3ee7b",
        "execution": {
          "iopub.status.busy": "2025-05-22T21:59:53.467567Z",
          "iopub.execute_input": "2025-05-22T21:59:53.467985Z",
          "iopub.status.idle": "2025-05-22T21:59:55.549998Z",
          "shell.execute_reply.started": "2025-05-22T21:59:53.467913Z",
          "shell.execute_reply": "2025-05-22T21:59:55.549004Z"
        },
        "id": "eXwDI5bF3Los"
      },
      "outputs": [],
      "execution_count": null
    },
    {
      "cell_type": "markdown",
      "source": [
        "# Look at first month of predictions"
      ],
      "metadata": {
        "_uuid": "7b0c23f8ab69549bcf64c154a4ab6cb86c0fe204",
        "id": "4w1uC74q3Los"
      }
    },
    {
      "cell_type": "code",
      "source": [
        "# Plot the forecast with the actuals\n",
        "f, ax = plt.subplots(1)\n",
        "f.set_figheight(5)\n",
        "f.set_figwidth(15)\n",
        "_ = pjme_all[['MW_Prediction','PJME_MW']].plot(ax=ax,\n",
        "                                              style=['-','.'])\n",
        "ax.set_xbound(lower='01-01-2015', upper='02-01-2015')\n",
        "ax.set_ylim(0, 60000)\n",
        "plot = plt.suptitle('January 2015 Forecast vs Actuals')"
      ],
      "metadata": {
        "trusted": true,
        "_uuid": "b07c99d3ceffa3634714f23ab3e27b7d1c6fb3e1",
        "execution": {
          "iopub.status.busy": "2025-05-22T22:00:21.940716Z",
          "iopub.execute_input": "2025-05-22T22:00:21.941087Z",
          "iopub.status.idle": "2025-05-22T22:00:22.706243Z",
          "shell.execute_reply.started": "2025-05-22T22:00:21.941008Z",
          "shell.execute_reply": "2025-05-22T22:00:22.705173Z"
        },
        "id": "SfUK3QLt3Los"
      },
      "outputs": [],
      "execution_count": null
    },
    {
      "cell_type": "markdown",
      "source": [],
      "metadata": {
        "_uuid": "7c46fb18df1f2a56cf2ab082814d890d34e54e4e",
        "id": "CWESzMfm3Los"
      }
    },
    {
      "cell_type": "code",
      "source": [
        "# Plot the forecast with the actuals\n",
        "f, ax = plt.subplots(1)\n",
        "f.set_figheight(5)\n",
        "f.set_figwidth(15)\n",
        "_ = pjme_all[['MW_Prediction','PJME_MW']].plot(ax=ax,\n",
        "                                              style=['-','.'])\n",
        "ax.set_xbound(lower='01-01-2015', upper='01-08-2015')\n",
        "ax.set_ylim(0, 60000)\n",
        "plot = plt.suptitle('First Week of January Forecast vs Actuals')"
      ],
      "metadata": {
        "trusted": true,
        "_uuid": "153d79e6a408c5705b5c4a19ef100449d0c38d8b",
        "execution": {
          "iopub.status.busy": "2025-05-22T22:01:10.839358Z",
          "iopub.execute_input": "2025-05-22T22:01:10.839702Z",
          "iopub.status.idle": "2025-05-22T22:01:11.643081Z",
          "shell.execute_reply.started": "2025-05-22T22:01:10.839652Z",
          "shell.execute_reply": "2025-05-22T22:01:11.642082Z"
        },
        "id": "3mWGOOxf3Los"
      },
      "outputs": [],
      "execution_count": null
    },
    {
      "cell_type": "code",
      "source": [
        "f, ax = plt.subplots(1)\n",
        "f.set_figheight(5)\n",
        "f.set_figwidth(15)\n",
        "_ = pjme_all[['MW_Prediction','PJME_MW']].plot(ax=ax,\n",
        "                                              style=['-','.'])\n",
        "ax.set_ylim(0, 60000)\n",
        "ax.set_xbound(lower='07-01-2015', upper='07-08-2015')\n",
        "plot = plt.suptitle('First Week of July Forecast vs Actuals')"
      ],
      "metadata": {
        "trusted": true,
        "_uuid": "8e24f91a3a71acd6d16eb930381d5b9baabffae2",
        "execution": {
          "iopub.status.busy": "2025-05-22T22:01:19.661056Z",
          "iopub.execute_input": "2025-05-22T22:01:19.661415Z",
          "iopub.status.idle": "2025-05-22T22:01:20.462941Z",
          "shell.execute_reply.started": "2025-05-22T22:01:19.661352Z",
          "shell.execute_reply": "2025-05-22T22:01:20.461784Z"
        },
        "id": "SEexQjFp3Los"
      },
      "outputs": [],
      "execution_count": null
    },
    {
      "cell_type": "markdown",
      "source": [
        "# Error Metrics On Test Set\n",
        "Our RMSE error is 13780445  \n",
        "Our MAE error is 2848.89  \n",
        "Our MAPE error is 8.9%"
      ],
      "metadata": {
        "trusted": true,
        "_uuid": "31964c9653b64c3e3f6fe48f5b3d7eb1987eaf84",
        "id": "cGohfwMN3Los"
      }
    },
    {
      "cell_type": "code",
      "source": [
        "mean_squared_error(y_true=pjme_test['PJME_MW'],\n",
        "                   y_pred=pjme_test['MW_Prediction'])"
      ],
      "metadata": {
        "trusted": true,
        "_uuid": "baf33e07988ad1860ab3fee31817cba797110879",
        "execution": {
          "iopub.status.busy": "2025-05-22T22:02:31.00573Z",
          "iopub.execute_input": "2025-05-22T22:02:31.006112Z",
          "iopub.status.idle": "2025-05-22T22:02:31.014606Z",
          "shell.execute_reply.started": "2025-05-22T22:02:31.006046Z",
          "shell.execute_reply": "2025-05-22T22:02:31.013348Z"
        },
        "id": "E-dttRkc3Lot"
      },
      "outputs": [],
      "execution_count": null
    },
    {
      "cell_type": "code",
      "source": [
        "mean_absolute_error(y_true=pjme_test['PJME_MW'],\n",
        "                   y_pred=pjme_test['MW_Prediction'])"
      ],
      "metadata": {
        "trusted": true,
        "_uuid": "4943521452099c82efb7fd00da4305b457a52fc0",
        "execution": {
          "iopub.status.busy": "2025-05-22T22:02:35.845152Z",
          "iopub.execute_input": "2025-05-22T22:02:35.84548Z",
          "iopub.status.idle": "2025-05-22T22:02:35.852661Z",
          "shell.execute_reply.started": "2025-05-22T22:02:35.845417Z",
          "shell.execute_reply": "2025-05-22T22:02:35.851695Z"
        },
        "id": "kX-FqoJg3Lot"
      },
      "outputs": [],
      "execution_count": null
    },
    {
      "cell_type": "markdown",
      "source": [
        "I like using mean absolute percent error because it gives an easy to interperate percentage showing how off the predictions are.\n",
        "MAPE isn't included in sklearn so we need to use a custom function."
      ],
      "metadata": {
        "_uuid": "3bfa58efee593e8ea8a8accdcd981b6b9cde5146",
        "id": "8XWjbLUj3Lot"
      }
    },
    {
      "cell_type": "code",
      "source": [
        "def mean_absolute_percentage_error(y_true, y_pred):\n",
        "    \"\"\"Calculates MAPE given y_true and y_pred\"\"\"\n",
        "    y_true, y_pred = np.array(y_true), np.array(y_pred)\n",
        "    return np.mean(np.abs((y_true - y_pred) / y_true)) * 100"
      ],
      "metadata": {
        "trusted": true,
        "_uuid": "32fcb6d7905e2847a18e89e310b0a61bfc6c3321",
        "execution": {
          "iopub.status.busy": "2025-05-22T22:03:09.232256Z",
          "iopub.execute_input": "2025-05-22T22:03:09.232621Z",
          "iopub.status.idle": "2025-05-22T22:03:09.237434Z",
          "shell.execute_reply.started": "2025-05-22T22:03:09.232552Z",
          "shell.execute_reply": "2025-05-22T22:03:09.236602Z"
        },
        "id": "qNHqtV5l3Lot"
      },
      "outputs": [],
      "execution_count": null
    },
    {
      "cell_type": "code",
      "source": [
        "mean_absolute_percentage_error(y_true=pjme_test['PJME_MW'],\n",
        "                   y_pred=pjme_test['MW_Prediction'])"
      ],
      "metadata": {
        "trusted": true,
        "_uuid": "eb095dfe68dccdc10f545d2345e3ed10865102dd",
        "execution": {
          "iopub.status.busy": "2025-05-22T22:03:13.711095Z",
          "iopub.execute_input": "2025-05-22T22:03:13.71146Z",
          "iopub.status.idle": "2025-05-22T22:03:13.719099Z",
          "shell.execute_reply.started": "2025-05-22T22:03:13.711387Z",
          "shell.execute_reply": "2025-05-22T22:03:13.717861Z"
        },
        "id": "_uxe5fKE3Lot"
      },
      "outputs": [],
      "execution_count": null
    },
    {
      "cell_type": "markdown",
      "source": [
        "# Look at Worst and Best Predicted Days"
      ],
      "metadata": {
        "_uuid": "5f5225264a6ae80a24b4c2802eff73f576aa4867",
        "id": "jS81leXD3Lot"
      }
    },
    {
      "cell_type": "code",
      "source": [
        "pjme_test['error'] = pjme_test['PJME_MW'] - pjme_test['MW_Prediction']\n",
        "pjme_test['abs_error'] = pjme_test['error'].apply(np.abs)\n",
        "error_by_day = pjme_test.groupby(['year','month','dayofmonth']) \\\n",
        "    .mean()[['PJME_MW','MW_Prediction','error','abs_error']]"
      ],
      "metadata": {
        "trusted": true,
        "_uuid": "fb1fcc67506951b7a9708cce9463f899b98a7b37",
        "execution": {
          "iopub.status.busy": "2025-05-22T22:03:53.392116Z",
          "iopub.execute_input": "2025-05-22T22:03:53.392481Z",
          "iopub.status.idle": "2025-05-22T22:03:53.500321Z",
          "shell.execute_reply.started": "2025-05-22T22:03:53.392415Z",
          "shell.execute_reply": "2025-05-22T22:03:53.499336Z"
        },
        "id": "iOGzAaGI3Lou"
      },
      "outputs": [],
      "execution_count": null
    },
    {
      "cell_type": "code",
      "source": [
        "# Over forecasted days\n",
        "error_by_day.sort_values('error', ascending=True).head(10)"
      ],
      "metadata": {
        "trusted": true,
        "_uuid": "6364555e8bed275076f6f6ee93c8537da3741aba",
        "execution": {
          "iopub.status.busy": "2025-05-22T22:03:56.724269Z",
          "iopub.execute_input": "2025-05-22T22:03:56.724599Z",
          "iopub.status.idle": "2025-05-22T22:03:56.752107Z",
          "shell.execute_reply.started": "2025-05-22T22:03:56.724536Z",
          "shell.execute_reply": "2025-05-22T22:03:56.751176Z"
        },
        "id": "Pzz-hEY13Lou"
      },
      "outputs": [],
      "execution_count": null
    },
    {
      "cell_type": "markdown",
      "source": [
        "Notice anything about the over forecasted days?\n",
        "- #1 worst day - July 4th, 2016 - is a holiday.\n",
        "- #3 worst day - December 25, 2015 - Christmas\n",
        "- #5 worst day - July 4th, 2016 - is a holiday.   \n",
        "Looks like our model may benefit from adding a holiday indicator."
      ],
      "metadata": {
        "_uuid": "adcc6c413889583c4ab195d3b9933827ff630762",
        "id": "ZzofIZpC3Lou"
      }
    },
    {
      "cell_type": "code",
      "source": [
        "# Worst absolute predicted days\n",
        "error_by_day.sort_values('abs_error', ascending=False).head(10)"
      ],
      "metadata": {
        "trusted": true,
        "_uuid": "72ee8685aea837bc274cec93c2fabb108b6a107d",
        "execution": {
          "iopub.status.busy": "2025-05-22T22:04:14.832222Z",
          "iopub.execute_input": "2025-05-22T22:04:14.832594Z",
          "iopub.status.idle": "2025-05-22T22:04:14.856296Z",
          "shell.execute_reply.started": "2025-05-22T22:04:14.832522Z",
          "shell.execute_reply": "2025-05-22T22:04:14.855458Z"
        },
        "id": "944fZSd13Lou"
      },
      "outputs": [],
      "execution_count": null
    },
    {
      "cell_type": "markdown",
      "source": [
        "The best predicted days seem to be a lot of october (not many holidays and mild weather) Also early may"
      ],
      "metadata": {
        "_uuid": "0f4c1097312214cb35781d1e692a50b9a4c75654",
        "id": "dRC3YMle3Lov"
      }
    },
    {
      "cell_type": "code",
      "source": [
        "# Best predicted days\n",
        "error_by_day.sort_values('abs_error', ascending=True).head(10)"
      ],
      "metadata": {
        "trusted": true,
        "_uuid": "faf0e5530e1f02fb82022813780562c42a911493",
        "execution": {
          "iopub.status.busy": "2025-05-22T22:05:33.224687Z",
          "iopub.execute_input": "2025-05-22T22:05:33.225088Z",
          "iopub.status.idle": "2025-05-22T22:05:33.248937Z",
          "shell.execute_reply.started": "2025-05-22T22:05:33.22502Z",
          "shell.execute_reply": "2025-05-22T22:05:33.248122Z"
        },
        "id": "bR2HSc573Lov"
      },
      "outputs": [],
      "execution_count": null
    },
    {
      "cell_type": "markdown",
      "source": [
        "# Plotting some best/worst predicted days"
      ],
      "metadata": {
        "_uuid": "0f78f528ca59a1e1cfb253ab69651149a5018b3b",
        "id": "hqXtqPG33Lov"
      }
    },
    {
      "cell_type": "code",
      "source": [
        "f, ax = plt.subplots(1)\n",
        "f.set_figheight(5)\n",
        "f.set_figwidth(10)\n",
        "_ = pjme_all[['MW_Prediction','PJME_MW']].plot(ax=ax,\n",
        "                                              style=['-','.'])\n",
        "ax.set_ylim(0, 60000)\n",
        "ax.set_xbound(lower='08-13-2016', upper='08-14-2016')\n",
        "plot = plt.suptitle('Aug 13, 2016 - Worst Predicted Day')"
      ],
      "metadata": {
        "trusted": true,
        "_uuid": "fd9d1df9db6153690488549f11cfd32c87cce960",
        "execution": {
          "iopub.status.busy": "2025-05-22T22:05:49.39921Z",
          "iopub.execute_input": "2025-05-22T22:05:49.399967Z",
          "iopub.status.idle": "2025-05-22T22:05:50.267382Z",
          "shell.execute_reply.started": "2025-05-22T22:05:49.399462Z",
          "shell.execute_reply": "2025-05-22T22:05:50.266355Z"
        },
        "id": "C3g-KX303Lov"
      },
      "outputs": [],
      "execution_count": null
    },
    {
      "cell_type": "markdown",
      "source": [
        "This one is pretty impressive. SPOT ON!"
      ],
      "metadata": {
        "_uuid": "2ca961106be98ebbf703ba52b9d10a2d58ff8a56",
        "id": "2nxahZUH3Lo0"
      }
    },
    {
      "cell_type": "code",
      "source": [
        "f, ax = plt.subplots(1)\n",
        "f.set_figheight(5)\n",
        "f.set_figwidth(10)\n",
        "_ = pjme_all[['MW_Prediction','PJME_MW']].plot(ax=ax,\n",
        "                                              style=['-','.'])\n",
        "ax.set_ylim(0, 60000)\n",
        "ax.set_xbound(lower='10-03-2016', upper='10-04-2016')\n",
        "plot = plt.suptitle('Oct 3, 2016 - Best Predicted Day')"
      ],
      "metadata": {
        "trusted": true,
        "_uuid": "39eac1134b1278e7dd5f848ea03e7246d730b97f",
        "execution": {
          "iopub.status.busy": "2025-05-22T22:05:54.247524Z",
          "iopub.execute_input": "2025-05-22T22:05:54.247852Z",
          "iopub.status.idle": "2025-05-22T22:05:55.014977Z",
          "shell.execute_reply.started": "2025-05-22T22:05:54.2478Z",
          "shell.execute_reply": "2025-05-22T22:05:55.01396Z"
        },
        "id": "zuU6pWwX3Lo0"
      },
      "outputs": [],
      "execution_count": null
    },
    {
      "cell_type": "code",
      "source": [
        "f, ax = plt.subplots(1)\n",
        "f.set_figheight(5)\n",
        "f.set_figwidth(10)\n",
        "_ = pjme_all[['MW_Prediction','PJME_MW']].plot(ax=ax,\n",
        "                                              style=['-','.'])\n",
        "ax.set_ylim(0, 60000)\n",
        "ax.set_xbound(lower='08-13-2016', upper='08-14-2016')\n",
        "plot = plt.suptitle('Aug 13, 2016 - Worst Predicted Day')"
      ],
      "metadata": {
        "trusted": true,
        "_uuid": "b20a85a8224428cbcb9888c62fa466757b0e04f7",
        "execution": {
          "iopub.status.busy": "2025-05-22T22:06:19.695177Z",
          "iopub.execute_input": "2025-05-22T22:06:19.695487Z",
          "iopub.status.idle": "2025-05-22T22:06:20.57289Z",
          "shell.execute_reply.started": "2025-05-22T22:06:19.69544Z",
          "shell.execute_reply": "2025-05-22T22:06:20.571781Z"
        },
        "id": "Sr9XUxJf3Lo0"
      },
      "outputs": [],
      "execution_count": null
    },
    {
      "cell_type": "markdown",
      "source": [
        "# Up next?\n",
        "- Add Lag variables\n",
        "- Add holiday indicators.\n",
        "- Add weather data source."
      ],
      "metadata": {
        "_uuid": "4cd7f2212c6ca87a2ffb2b8ea12a3581e4ee4027",
        "id": "E1I_ioHt3Lo0"
      }
    }
  ]
}